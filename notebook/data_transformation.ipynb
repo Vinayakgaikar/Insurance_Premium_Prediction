{
 "cells": [
  {
   "cell_type": "code",
   "execution_count": 1,
   "metadata": {},
   "outputs": [],
   "source": [
    "import pandas as pd\n",
    "import dill"
   ]
  },
  {
   "cell_type": "code",
   "execution_count": 2,
   "metadata": {},
   "outputs": [],
   "source": [
    "test=pd.read_csv(r\"C:\\Users\\VINAYAK\\Projects\\Insurance_Premium_Prediction\\insurance\\artifact\\data_ingestion\\2022-12-10-20-46-45\\ingested_data\\test\\insurance.csv\")"
   ]
  },
  {
   "cell_type": "code",
   "execution_count": 3,
   "metadata": {},
   "outputs": [
    {
     "data": {
      "text/html": [
       "<div>\n",
       "<style scoped>\n",
       "    .dataframe tbody tr th:only-of-type {\n",
       "        vertical-align: middle;\n",
       "    }\n",
       "\n",
       "    .dataframe tbody tr th {\n",
       "        vertical-align: top;\n",
       "    }\n",
       "\n",
       "    .dataframe thead th {\n",
       "        text-align: right;\n",
       "    }\n",
       "</style>\n",
       "<table border=\"1\" class=\"dataframe\">\n",
       "  <thead>\n",
       "    <tr style=\"text-align: right;\">\n",
       "      <th></th>\n",
       "      <th>age</th>\n",
       "      <th>sex</th>\n",
       "      <th>bmi</th>\n",
       "      <th>children</th>\n",
       "      <th>smoker</th>\n",
       "      <th>region</th>\n",
       "    </tr>\n",
       "  </thead>\n",
       "  <tbody>\n",
       "    <tr>\n",
       "      <th>0</th>\n",
       "      <td>46</td>\n",
       "      <td>female</td>\n",
       "      <td>27.7</td>\n",
       "      <td>0</td>\n",
       "      <td>no</td>\n",
       "      <td>northwest</td>\n",
       "    </tr>\n",
       "    <tr>\n",
       "      <th>1</th>\n",
       "      <td>63</td>\n",
       "      <td>female</td>\n",
       "      <td>32.2</td>\n",
       "      <td>2</td>\n",
       "      <td>yes</td>\n",
       "      <td>southwest</td>\n",
       "    </tr>\n",
       "    <tr>\n",
       "      <th>2</th>\n",
       "      <td>42</td>\n",
       "      <td>male</td>\n",
       "      <td>31.3</td>\n",
       "      <td>0</td>\n",
       "      <td>no</td>\n",
       "      <td>northwest</td>\n",
       "    </tr>\n",
       "    <tr>\n",
       "      <th>3</th>\n",
       "      <td>33</td>\n",
       "      <td>female</td>\n",
       "      <td>33.5</td>\n",
       "      <td>0</td>\n",
       "      <td>yes</td>\n",
       "      <td>southwest</td>\n",
       "    </tr>\n",
       "    <tr>\n",
       "      <th>4</th>\n",
       "      <td>25</td>\n",
       "      <td>female</td>\n",
       "      <td>26.8</td>\n",
       "      <td>2</td>\n",
       "      <td>no</td>\n",
       "      <td>northwest</td>\n",
       "    </tr>\n",
       "  </tbody>\n",
       "</table>\n",
       "</div>"
      ],
      "text/plain": [
       "   age     sex   bmi  children smoker     region\n",
       "0   46  female  27.7         0     no  northwest\n",
       "1   63  female  32.2         2    yes  southwest\n",
       "2   42    male  31.3         0     no  northwest\n",
       "3   33  female  33.5         0    yes  southwest\n",
       "4   25  female  26.8         2     no  northwest"
      ]
     },
     "execution_count": 3,
     "metadata": {},
     "output_type": "execute_result"
    }
   ],
   "source": [
    "test_data=test.drop(\"expenses\",axis=1)\n",
    "test_data.head()"
   ]
  },
  {
   "cell_type": "code",
   "execution_count": 4,
   "metadata": {},
   "outputs": [
    {
     "name": "stderr",
     "output_type": "stream",
     "text": [
      "c:\\Users\\VINAYAK\\Projects\\Housing_Predictor\\venv\\lib\\site-packages\\scikit_learn-1.1.2-py3.9-win-amd64.egg\\sklearn\\base.py:329: UserWarning: Trying to unpickle estimator SimpleImputer from version 1.1.3 when using version 1.1.2. This might lead to breaking code or invalid results. Use at your own risk. For more info please refer to:\n",
      "https://scikit-learn.org/stable/model_persistence.html#security-maintainability-limitations\n",
      "  warnings.warn(\n",
      "c:\\Users\\VINAYAK\\Projects\\Housing_Predictor\\venv\\lib\\site-packages\\scikit_learn-1.1.2-py3.9-win-amd64.egg\\sklearn\\base.py:329: UserWarning: Trying to unpickle estimator StandardScaler from version 1.1.3 when using version 1.1.2. This might lead to breaking code or invalid results. Use at your own risk. For more info please refer to:\n",
      "https://scikit-learn.org/stable/model_persistence.html#security-maintainability-limitations\n",
      "  warnings.warn(\n",
      "c:\\Users\\VINAYAK\\Projects\\Housing_Predictor\\venv\\lib\\site-packages\\scikit_learn-1.1.2-py3.9-win-amd64.egg\\sklearn\\base.py:329: UserWarning: Trying to unpickle estimator Pipeline from version 1.1.3 when using version 1.1.2. This might lead to breaking code or invalid results. Use at your own risk. For more info please refer to:\n",
      "https://scikit-learn.org/stable/model_persistence.html#security-maintainability-limitations\n",
      "  warnings.warn(\n",
      "c:\\Users\\VINAYAK\\Projects\\Housing_Predictor\\venv\\lib\\site-packages\\scikit_learn-1.1.2-py3.9-win-amd64.egg\\sklearn\\base.py:329: UserWarning: Trying to unpickle estimator OneHotEncoder from version 1.1.3 when using version 1.1.2. This might lead to breaking code or invalid results. Use at your own risk. For more info please refer to:\n",
      "https://scikit-learn.org/stable/model_persistence.html#security-maintainability-limitations\n",
      "  warnings.warn(\n",
      "c:\\Users\\VINAYAK\\Projects\\Housing_Predictor\\venv\\lib\\site-packages\\scikit_learn-1.1.2-py3.9-win-amd64.egg\\sklearn\\base.py:329: UserWarning: Trying to unpickle estimator ColumnTransformer from version 1.1.3 when using version 1.1.2. This might lead to breaking code or invalid results. Use at your own risk. For more info please refer to:\n",
      "https://scikit-learn.org/stable/model_persistence.html#security-maintainability-limitations\n",
      "  warnings.warn(\n"
     ]
    }
   ],
   "source": [
    "with open(\"preprocessed.pkl\",'rb') as file_obj:\n",
    "    preprocesing_obj=dill.load(file_obj)"
   ]
  },
  {
   "cell_type": "code",
   "execution_count": 8,
   "metadata": {},
   "outputs": [
    {
     "data": {
      "text/plain": [
       "array([[ 0.47357948, -0.48927705, -0.91757176, ...,  2.35349071,\n",
       "         0.        ,  0.        ],\n",
       "       [ 1.68397864,  0.25691229,  0.76792486, ...,  0.        ,\n",
       "         0.        ,  2.35349071],\n",
       "       [ 0.18877968,  0.10767442, -0.91757176, ...,  2.35349071,\n",
       "         0.        ,  0.        ],\n",
       "       ...,\n",
       "       [ 0.97197913, -0.67167889, -0.91757176, ...,  2.35349071,\n",
       "         0.        ,  0.        ],\n",
       "       [-1.52001913,  1.10259354, -0.07482345, ...,  0.        ,\n",
       "         2.21297438,  0.        ],\n",
       "       [-0.09602012,  1.16892149, -0.91757176, ...,  0.        ,\n",
       "         2.21297438,  0.        ]])"
      ]
     },
     "execution_count": 8,
     "metadata": {},
     "output_type": "execute_result"
    }
   ],
   "source": [
    "preprocesing_obj.transform(test_data)"
   ]
  },
  {
   "cell_type": "code",
   "execution_count": null,
   "metadata": {},
   "outputs": [],
   "source": []
  }
 ],
 "metadata": {
  "kernelspec": {
   "display_name": "Python 3",
   "language": "python",
   "name": "python3"
  },
  "language_info": {
   "codemirror_mode": {
    "name": "ipython",
    "version": 3
   },
   "file_extension": ".py",
   "mimetype": "text/x-python",
   "name": "python",
   "nbconvert_exporter": "python",
   "pygments_lexer": "ipython3",
   "version": "3.9.13"
  },
  "orig_nbformat": 4,
  "vscode": {
   "interpreter": {
    "hash": "b24846852c739fd51b0baa60679520f6ea2de9333567891c968a713bb91f62e4"
   }
  }
 },
 "nbformat": 4,
 "nbformat_minor": 2
}
